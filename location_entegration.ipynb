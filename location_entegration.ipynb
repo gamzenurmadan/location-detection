{
  "nbformat": 4,
  "nbformat_minor": 0,
  "metadata": {
    "colab": {
      "provenance": [],
      "authorship_tag": "ABX9TyOCW/1sSogY1xGlOIhzrg/b"
    },
    "kernelspec": {
      "name": "python3",
      "display_name": "Python 3"
    },
    "language_info": {
      "name": "python"
    }
  },
  "cells": [
    {
      "cell_type": "code",
      "source": [
        "!pip install geopy"
      ],
      "metadata": {
        "id": "8QYHaSpRmikR",
        "colab": {
          "base_uri": "https://localhost:8080/"
        },
        "outputId": "dae5b61c-7460-413a-8dfa-e3e42d8a135f"
      },
      "execution_count": null,
      "outputs": [
        {
          "output_type": "stream",
          "name": "stdout",
          "text": [
            "Looking in indexes: https://pypi.org/simple, https://us-python.pkg.dev/colab-wheels/public/simple/\n",
            "Requirement already satisfied: geopy in /usr/local/lib/python3.10/dist-packages (2.3.0)\n",
            "Requirement already satisfied: geographiclib<3,>=1.52 in /usr/local/lib/python3.10/dist-packages (from geopy) (2.0)\n"
          ]
        }
      ]
    },
    {
      "cell_type": "code",
      "source": [
        "from geopy.geocoders import Nominatim"
      ],
      "metadata": {
        "id": "yAzQQErQm1CA"
      },
      "execution_count": null,
      "outputs": []
    },
    {
      "cell_type": "code",
      "source": [
        "geolocator = Nominatim(user_agent=\"http\", timeout=10000)"
      ],
      "metadata": {
        "id": "P3-YwtsAmk4B"
      },
      "execution_count": null,
      "outputs": []
    },
    {
      "cell_type": "code",
      "execution_count": null,
      "metadata": {
        "id": "df5q9KnxmGk5"
      },
      "outputs": [],
      "source": [
        "import requests\n",
        "\n",
        "API_URL = \"https://api-inference.huggingface.co/models/gamzenurmadan/expanded-multilingual-ner\"\n",
        "headers = {\"authorization token here\"}\n",
        "\n",
        "def query(payload):\n",
        "\tresponse = requests.post(API_URL, headers=headers, json=payload)\n",
        "\treturn response.json()"
      ]
    },
    {
      "cell_type": "code",
      "source": [
        "def tweet_inputs(tweet):\n",
        "  output = query({\n",
        "\t\"inputs\": tweet,\n",
        "  })\n",
        "  return output\n",
        "\n",
        "def show_locations(doc):\n",
        "  loc_list = []\n",
        "  for ent in doc:\n",
        "    if ent['entity_group'] == 'LOC':\n",
        "      loc_list.append(ent['word'])\n",
        "    else:\n",
        "      continue\n",
        "  return loc_list\n",
        "\n",
        "def show_coordinations(loc_list):\n",
        "  coo_list = []\n",
        "  for loc in loc_list:\n",
        "    location = geolocator.geocode(loc)\n",
        "    if location != None:\n",
        "      coordinations = (location.latitude, location.longitude)\n",
        "      coo_list.append(coordinations)\n",
        "    else:\n",
        "      coordinations = (0,0)\n",
        "      coo_list.append(coordinations)\n",
        "  return set(coo_list)"
      ],
      "metadata": {
        "id": "gLXAIvIKmosi"
      },
      "execution_count": null,
      "outputs": []
    },
    {
      "cell_type": "code",
      "source": [
        "def main(tweet):\n",
        "  location = show_locations(tweet_inputs(tweet))\n",
        "  print(\"Text: \"+ tweet)\n",
        "  print(\"Location of the \"location)\n",
        "  print(list(show_coordinations(location)))"
      ],
      "metadata": {
        "id": "ZVo4nh_Zmqs6"
      },
      "execution_count": null,
      "outputs": []
    },
    {
      "cell_type": "code",
      "source": [
        "main(\"There was an earthquake on Washington and Japan\")"
      ],
      "metadata": {
        "colab": {
          "base_uri": "https://localhost:8080/"
        },
        "id": "zk2xgdY-ozZ7",
        "outputId": "c6ce0ce8-dfc6-42c0-a37c-44368c270946"
      },
      "execution_count": null,
      "outputs": [
        {
          "output_type": "stream",
          "name": "stdout",
          "text": [
            "['Washington', 'Japan']\n",
            "[(36.5748441, 139.2394179), (38.8950368, -77.0365427)]\n"
          ]
        }
      ]
    }
  ]
}